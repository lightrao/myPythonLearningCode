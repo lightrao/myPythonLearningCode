{
 "nbformat": 4,
 "nbformat_minor": 2,
 "metadata": {
  "language_info": {
   "name": "python",
   "codemirror_mode": {
    "name": "ipython",
    "version": 3
   },
   "version": "3.7.4"
  },
  "orig_nbformat": 2,
  "file_extension": ".py",
  "mimetype": "text/x-python",
  "name": "python",
  "npconvert_exporter": "python",
  "pygments_lexer": "ipython3",
  "version": 3
 },
 "cells": [
  {
   "cell_type": "code",
   "execution_count": 5,
   "metadata": {},
   "outputs": [],
   "source": [
    "class Robot:\n",
    "    def __init__(self,givenName,givenColor,givenWeight):\n",
    "        self.name=givenName\n",
    "        self.color=givenColor\n",
    "        self.weight=givenWeight\n",
    "        \n",
    "    def introduce_self(self):\n",
    "        print(\"My name is \"+self.name)"
   ]
  },
  {
   "cell_type": "code",
   "execution_count": 6,
   "metadata": {},
   "outputs": [],
   "source": [
    "r1=Robot(\"Tom\",\"red\",30)\n",
    "r2=Robot(\"Jerry\",\"blue\",40)"
   ]
  },
  {
   "cell_type": "code",
   "execution_count": 8,
   "metadata": {},
   "outputs": [],
   "source": [
    "class Person:\n",
    "    def __init__(self,name,personality,isSitting,robotOwned=None):\n",
    "        self.name=name\n",
    "        self.personality=personality\n",
    "        self.isSitting=isSitting\n",
    "        self.robotOwned=robotOwned\n",
    "    \n",
    "    def sit_down(self):\n",
    "        self.isSitting=True\n",
    "\n",
    "    def stand_up(self):\n",
    "        self.isSitting=False"
   ]
  },
  {
   "cell_type": "code",
   "execution_count": 9,
   "metadata": {},
   "outputs": [],
   "source": [
    "p1=Person(\"Alice\",\"aggressive\",False,r2)\n",
    "p2=Person(\"Becky\",\"talktive\",True,r1)"
   ]
  },
  {
   "cell_type": "code",
   "execution_count": 10,
   "metadata": {},
   "outputs": [
    {
     "name": "stdout",
     "output_type": "stream",
     "text": "My name is Jerry\n"
    }
   ],
   "source": [
    "p1.robotOwned.introduce_self()"
   ]
  },
  {
   "cell_type": "code",
   "execution_count": 11,
   "metadata": {},
   "outputs": [
    {
     "name": "stdout",
     "output_type": "stream",
     "text": "My name is Tom\n"
    }
   ],
   "source": [
    "p2.robotOwned.introduce_self()"
   ]
  },
  {
   "cell_type": "code",
   "execution_count": null,
   "metadata": {},
   "outputs": [],
   "source": []
  }
 ]
}