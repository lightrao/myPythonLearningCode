{
 "nbformat": 4,
 "nbformat_minor": 2,
 "metadata": {
  "language_info": {
   "name": "python",
   "codemirror_mode": {
    "name": "ipython",
    "version": 3
   },
   "version": "3.7.4"
  },
  "orig_nbformat": 2,
  "file_extension": ".py",
  "mimetype": "text/x-python",
  "name": "python",
  "npconvert_exporter": "python",
  "pygments_lexer": "ipython3",
  "version": 3
 },
 "cells": [
  {
   "cell_type": "code",
   "execution_count": 1,
   "metadata": {},
   "outputs": [],
   "source": [
    "# The parameter weekday is True if it is a weekday, and the parameter vacation is True if we are on vacation. We sleep in if it is not a weekday or we're on vacation. Return True if we sleep in.\n",
    "def sleep_in(weekday, vacation):\n",
    "    return not weekday or vacation"
   ]
  },
  {
   "cell_type": "code",
   "execution_count": 2,
   "metadata": {},
   "outputs": [],
   "source": [
    "# Given a string and a non-negative int n, return a larger string that is n copies of the original string.\n",
    "def string_times(str, n):\n",
    "    return str*n"
   ]
  },
  {
   "cell_type": "code",
   "execution_count": 4,
   "metadata": {},
   "outputs": [
    {
     "name": "stdout",
     "output_type": "stream",
     "text": "Hello light!\n"
    }
   ],
   "source": [
    "# Given a string name, e.g. \"Bob\", return a greeting of the form \"Hello Bob!\".\n",
    "def hello_name(name):\n",
    "    return 'Hello '+name+\"!\""
   ]
  },
  {
   "cell_type": "code",
   "execution_count": 6,
   "metadata": {},
   "outputs": [],
   "source": [
    "# Given an array of ints, return True if 6 appears as either the first or last element in the array. The array will be length 1 or more.\n",
    "def first_last6(nums):\n",
    "    return nums[0]==6 or nums[-1]==6    "
   ]
  },
  {
   "cell_type": "code",
   "execution_count": 7,
   "metadata": {},
   "outputs": [],
   "source": [
    "# Given a string, return a string where for every char in the original, there are two chars.\n",
    "def double_char(str):\n",
    "    s=''\n",
    "    for c in str:\n",
    "        s+=c*2\n",
    "    return s"
   ]
  },
  {
   "cell_type": "code",
   "execution_count": 8,
   "metadata": {},
   "outputs": [],
   "source": [
    "# Return the number of even ints in the given array. Note: the % \"mod\" operator computes the remainder, e.g. 5 % 2 is 1.\n",
    "def count_evens(nums):\n",
    "    count=0\n",
    "    for e in nums:\n",
    "        if e%2==0:\n",
    "            count+=1\n",
    "    return count"
   ]
  },
  {
   "cell_type": "code",
   "execution_count": null,
   "metadata": {},
   "outputs": [],
   "source": []
  }
 ]
}