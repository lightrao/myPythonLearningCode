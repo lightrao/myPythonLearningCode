{
 "nbformat": 4,
 "nbformat_minor": 2,
 "metadata": {
  "language_info": {
   "name": "python",
   "codemirror_mode": {
    "name": "ipython",
    "version": 3
   },
   "version": "3.7.4"
  },
  "orig_nbformat": 2,
  "file_extension": ".py",
  "mimetype": "text/x-python",
  "name": "python",
  "npconvert_exporter": "python",
  "pygments_lexer": "ipython3",
  "version": 3
 },
 "cells": [
  {
   "cell_type": "code",
   "execution_count": 3,
   "metadata": {},
   "outputs": [
    {
     "name": "stdout",
     "output_type": "stream",
     "text": "c is NOT less than d\nI don't think c is less than d\noutside the if block\n"
    }
   ],
   "source": [
    "c=5\n",
    "d=4\n",
    "if c<d:\n",
    "    print(\"c is less than d\")\n",
    "else:\n",
    "    print(\"c is NOT less than d\")\n",
    "    print(\"I don't think c is less than d\")\n",
    "print(\"outside the if block\")"
   ]
  },
  {
   "cell_type": "code",
   "execution_count": 7,
   "metadata": {},
   "outputs": [
    {
     "name": "stdout",
     "output_type": "stream",
     "text": "e is greater than f by less than 10\n"
    }
   ],
   "source": [
    "e=11\n",
    "f=8\n",
    "if e<f:\n",
    "    print(\"e is less than f\")\n",
    "elif e==f:\n",
    "    print(\"e is equal to f\")\n",
    "elif e>f+10:\n",
    "    print(\"e is greater than f by more than 10\")\n",
    "else:\n",
    "    print(\"e is greater than f by less than 10\")"
   ]
  },
  {
   "cell_type": "code",
   "execution_count": 10,
   "metadata": {},
   "outputs": [
    {
     "name": "stdout",
     "output_type": "stream",
     "text": "g is less than h\n"
    }
   ],
   "source": [
    "g=6\n",
    "h=8\n",
    "if g<h:\n",
    "    print(\"g is less than h\")\n",
    "else:\n",
    "    if g==h:\n",
    "        print(\"g is equal to h\")\n",
    "    else:\n",
    "        print(\"g is greater than h\")"
   ]
  },
  {
   "cell_type": "code",
   "execution_count": 12,
   "metadata": {},
   "outputs": [
    {
     "name": "stdout",
     "output_type": "stream",
     "text": "bmi: \n30.75\nYK\nis overweight\n"
    }
   ],
   "source": [
    "name=\"YK\"\n",
    "height_m=2\n",
    "weight_kg=123\n",
    "\n",
    "bmi=weight_kg/(height_m**2)\n",
    "print(\"bmi: \")\n",
    "print(bmi)\n",
    "if bmi<25:\n",
    "    print(name)\n",
    "    print(\"is not overweight\")\n",
    "else:\n",
    "    print(name)\n",
    "    print(\"is overweight\")\n"
   ]
  },
  {
   "cell_type": "code",
   "execution_count": null,
   "metadata": {},
   "outputs": [],
   "source": []
  },
  {
   "cell_type": "code",
   "execution_count": 2,
   "metadata": {},
   "outputs": [
    {
     "name": "stdout",
     "output_type": "stream",
     "text": "a is less than b\na is definitely less than b\nNot sure if a is less than b\n"
    }
   ],
   "source": [
    "a=1\n",
    "b=2\n",
    "if a<b:\n",
    "    print('a is less than b')\n",
    "    print(\"a is definitely less than b\")\n",
    "print(\"Not sure if a is less than b\")"
   ]
  }
 ]
}