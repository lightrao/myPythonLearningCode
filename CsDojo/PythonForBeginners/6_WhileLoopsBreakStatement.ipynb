{
 "nbformat": 4,
 "nbformat_minor": 2,
 "metadata": {
  "language_info": {
   "name": "python",
   "codemirror_mode": {
    "name": "ipython",
    "version": 3
   },
   "version": "3.7.4"
  },
  "orig_nbformat": 2,
  "file_extension": ".py",
  "mimetype": "text/x-python",
  "name": "python",
  "npconvert_exporter": "python",
  "pygments_lexer": "ipython3",
  "version": 3
 },
 "cells": [
  {
   "cell_type": "code",
   "execution_count": 1,
   "metadata": {},
   "outputs": [
    {
     "name": "stdout",
     "output_type": "stream",
     "text": "10\n"
    }
   ],
   "source": [
    "total=0\n",
    "for i in range(1,5):\n",
    "    total+=i\n",
    "print(total)"
   ]
  },
  {
   "cell_type": "code",
   "execution_count": 4,
   "metadata": {},
   "outputs": [
    {
     "name": "stdout",
     "output_type": "stream",
     "text": "10\n"
    }
   ],
   "source": [
    "total2=0\n",
    "j=0\n",
    "while j<5:\n",
    "    total2+=j\n",
    "    j+=1\n",
    "print(total2)"
   ]
  },
  {
   "cell_type": "code",
   "execution_count": 9,
   "metadata": {},
   "outputs": [
    {
     "name": "stdout",
     "output_type": "stream",
     "text": "17\n"
    }
   ],
   "source": [
    "# don't know how many loops you need beforehand\n",
    "# sum positive element in a sorted list which go from high to low\n",
    "\n",
    "# given_list=[5,4,4,3,1,-2,-3,-5]\n",
    "given_list=[5,4,4,3,1]\n",
    "total3=0\n",
    "i=0\n",
    "while i<len(given_list) and given_list[i]>0:\n",
    "    total3+=given_list[i]\n",
    "    i+=1\n",
    "print(total3)"
   ]
  },
  {
   "cell_type": "code",
   "execution_count": 13,
   "metadata": {},
   "outputs": [
    {
     "name": "stdout",
     "output_type": "stream",
     "text": "17\n"
    }
   ],
   "source": [
    "# use for loop to finish the same task,sum positive numbers in sorted list\n",
    "given_list2=[5,4,4,3,1,-2,-3,-5]\n",
    "total4=0\n",
    "for element in given_list2:\n",
    "    if element<0:\n",
    "        break\n",
    "    total4+=element\n",
    "print(total4)"
   ]
  },
  {
   "cell_type": "code",
   "execution_count": 14,
   "metadata": {},
   "outputs": [
    {
     "name": "stdout",
     "output_type": "stream",
     "text": "17\n"
    }
   ],
   "source": [
    "total5=0\n",
    "i=0\n",
    "while True:\n",
    "    total5+=given_list2[i]\n",
    "    i+=1\n",
    "    if given_list2[i]<=0:\n",
    "        break\n",
    "print(total5)"
   ]
  },
  {
   "cell_type": "code",
   "execution_count": 15,
   "metadata": {},
   "outputs": [
    {
     "name": "stdout",
     "output_type": "stream",
     "text": "-17\n"
    }
   ],
   "source": [
    "# given list in decending order,add negtive numbers\n",
    "given_list3=[7,5,4,4,3,1,-2,-3,-5,-7]\n",
    "total6=0\n",
    "z=len(given_list3)-1\n",
    "while True:\n",
    "    total6+=given_list3[z]\n",
    "    z-=1\n",
    "    if given_list3[z]>=0:\n",
    "        break\n",
    "print(total6)"
   ]
  },
  {
   "cell_type": "code",
   "execution_count": null,
   "metadata": {},
   "outputs": [],
   "source": []
  }
 ]
}